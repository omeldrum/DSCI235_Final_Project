{
 "cells": [
  {
   "cell_type": "markdown",
   "metadata": {},
   "source": [
    "# Final Project\n",
    "**Oriana Meldrum**\n",
    "\n",
    "\n",
    "**Research Question:** Can we understand the impacts of COVID-19 vaccination rates between different countries? Given that we are now seeing rapid expansion of vaccine distribution among the general public in the United States, it will be interesting to see the trends as those who want the vaccine and how quickly those who are more hesitant are encouraged to get the vaccine. It will also be interesting to see the differences between different countries and their commitment to the distribution efforts.\n",
    "\n",
    "Inspired by: https://www.npr.org/sections/health-shots/2021/01/28/960901166/how-is-the-covid-19-vaccination-campaign-going-in-your-state\n",
    "\n"
   ]
  },
  {
   "cell_type": "code",
   "execution_count": 2,
   "metadata": {},
   "outputs": [],
   "source": [
    "\n",
    "\n",
    "import numpy as np\n",
    "import pandas as pd\n",
    "%matplotlib inline\n",
    "import matplotlib.pylab as plt\n"
   ]
  },
  {
   "cell_type": "markdown",
   "metadata": {},
   "source": [
    "**Read Data**\n",
    "\n",
    "\n",
    "Data is collected daily from Our World in Data GitHub repository for covid-19, merged and uploaded. I will note the day that I begin the project, and if I keep the same data throughout the project or if I choose to get the updated information. "
   ]
  },
  {
   "cell_type": "code",
   "execution_count": 4,
   "metadata": {},
   "outputs": [
    {
     "data": {
      "text/plain": [
       "<bound method DataFrame.info of            country iso_code        date  total_vaccinations  \\\n",
       "0      Afghanistan      AFG  2021-02-22                 0.0   \n",
       "1      Afghanistan      AFG  2021-02-23                 NaN   \n",
       "2      Afghanistan      AFG  2021-02-24                 NaN   \n",
       "3      Afghanistan      AFG  2021-02-25                 NaN   \n",
       "4      Afghanistan      AFG  2021-02-26                 NaN   \n",
       "...            ...      ...         ...                 ...   \n",
       "15661     Zimbabwe      ZWE  2021-05-02            524199.0   \n",
       "15662     Zimbabwe      ZWE  2021-05-03            537516.0   \n",
       "15663     Zimbabwe      ZWE  2021-05-04            559777.0   \n",
       "15664     Zimbabwe      ZWE  2021-05-05            576233.0   \n",
       "15665     Zimbabwe      ZWE  2021-05-06            607355.0   \n",
       "\n",
       "       people_vaccinated  people_fully_vaccinated  daily_vaccinations_raw  \\\n",
       "0                    0.0                      NaN                     NaN   \n",
       "1                    NaN                      NaN                     NaN   \n",
       "2                    NaN                      NaN                     NaN   \n",
       "3                    NaN                      NaN                     NaN   \n",
       "4                    NaN                      NaN                     NaN   \n",
       "...                  ...                      ...                     ...   \n",
       "15661           430068.0                  94131.0                  3900.0   \n",
       "15662           437751.0                  99765.0                 13317.0   \n",
       "15663           452191.0                 107586.0                 22261.0   \n",
       "15664           461023.0                 115210.0                 16456.0   \n",
       "15665           478174.0                 129181.0                 31122.0   \n",
       "\n",
       "       daily_vaccinations  total_vaccinations_per_hundred  \\\n",
       "0                     NaN                            0.00   \n",
       "1                  1367.0                             NaN   \n",
       "2                  1367.0                             NaN   \n",
       "3                  1367.0                             NaN   \n",
       "4                  1367.0                             NaN   \n",
       "...                   ...                             ...   \n",
       "15661             19169.0                            3.53   \n",
       "15662             17987.0                            3.62   \n",
       "15663             17977.0                            3.77   \n",
       "15664             16889.0                            3.88   \n",
       "15665             18537.0                            4.09   \n",
       "\n",
       "       people_vaccinated_per_hundred  people_fully_vaccinated_per_hundred  \\\n",
       "0                               0.00                                  NaN   \n",
       "1                                NaN                                  NaN   \n",
       "2                                NaN                                  NaN   \n",
       "3                                NaN                                  NaN   \n",
       "4                                NaN                                  NaN   \n",
       "...                              ...                                  ...   \n",
       "15661                           2.89                                 0.63   \n",
       "15662                           2.95                                 0.67   \n",
       "15663                           3.04                                 0.72   \n",
       "15664                           3.10                                 0.78   \n",
       "15665                           3.22                                 0.87   \n",
       "\n",
       "       daily_vaccinations_per_million            vaccines  \\\n",
       "0                                 NaN  Oxford/AstraZeneca   \n",
       "1                                35.0  Oxford/AstraZeneca   \n",
       "2                                35.0  Oxford/AstraZeneca   \n",
       "3                                35.0  Oxford/AstraZeneca   \n",
       "4                                35.0  Oxford/AstraZeneca   \n",
       "...                               ...                 ...   \n",
       "15661                          1290.0   Sinopharm/Beijing   \n",
       "15662                          1210.0   Sinopharm/Beijing   \n",
       "15663                          1210.0   Sinopharm/Beijing   \n",
       "15664                          1136.0   Sinopharm/Beijing   \n",
       "15665                          1247.0   Sinopharm/Beijing   \n",
       "\n",
       "                     source_name  \\\n",
       "0      Government of Afghanistan   \n",
       "1      Government of Afghanistan   \n",
       "2      Government of Afghanistan   \n",
       "3      Government of Afghanistan   \n",
       "4      Government of Afghanistan   \n",
       "...                          ...   \n",
       "15661         Ministry of Health   \n",
       "15662         Ministry of Health   \n",
       "15663         Ministry of Health   \n",
       "15664         Ministry of Health   \n",
       "15665         Ministry of Health   \n",
       "\n",
       "                                          source_website  \n",
       "0      https://reliefweb.int/report/afghanistan/afgha...  \n",
       "1      https://reliefweb.int/report/afghanistan/afgha...  \n",
       "2      https://reliefweb.int/report/afghanistan/afgha...  \n",
       "3      https://reliefweb.int/report/afghanistan/afgha...  \n",
       "4      https://reliefweb.int/report/afghanistan/afgha...  \n",
       "...                                                  ...  \n",
       "15661  https://twitter.com/MoHCCZim/status/1390390738...  \n",
       "15662  https://twitter.com/MoHCCZim/status/1390390738...  \n",
       "15663  https://twitter.com/MoHCCZim/status/1390390738...  \n",
       "15664  https://twitter.com/MoHCCZim/status/1390390738...  \n",
       "15665  https://twitter.com/MoHCCZim/status/1390390738...  \n",
       "\n",
       "[15666 rows x 15 columns]>"
      ]
     },
     "execution_count": 4,
     "metadata": {},
     "output_type": "execute_result"
    }
   ],
   "source": [
    "\n",
    "\n",
    "url = 'https://raw.githubusercontent.com/omeldrum/DSCI235_Final_Project/master/country_vaccinations.csv'\n",
    "data = pd.read_csv(url)\n",
    "data.head()\n",
    "data.info"
   ]
  },
  {
   "cell_type": "markdown",
   "metadata": {},
   "source": [
    "**Exploratory Analysis**\n",
    "\n",
    "Set up indiviudal country data frames\n",
    "Columns of intrest include\n",
    "    total_vaccinations_per_hundred\n",
    "    total_vaccinations\n",
    "    daily_vaccinations\n",
    "    daily_vaccinations_per_million\n",
    "    people_vaccinated_per_hundred\n",
    "    \n",
    "    \n",
    "    "
   ]
  },
  {
   "cell_type": "code",
   "execution_count": 17,
   "metadata": {},
   "outputs": [
    {
     "data": {
      "text/html": [
       "<div>\n",
       "<style scoped>\n",
       "    .dataframe tbody tr th:only-of-type {\n",
       "        vertical-align: middle;\n",
       "    }\n",
       "\n",
       "    .dataframe tbody tr th {\n",
       "        vertical-align: top;\n",
       "    }\n",
       "\n",
       "    .dataframe thead th {\n",
       "        text-align: right;\n",
       "    }\n",
       "</style>\n",
       "<table border=\"1\" class=\"dataframe\">\n",
       "  <thead>\n",
       "    <tr style=\"text-align: right;\">\n",
       "      <th></th>\n",
       "      <th>country</th>\n",
       "      <th>iso_code</th>\n",
       "      <th>date</th>\n",
       "      <th>total_vaccinations</th>\n",
       "      <th>people_vaccinated</th>\n",
       "      <th>people_fully_vaccinated</th>\n",
       "      <th>daily_vaccinations_raw</th>\n",
       "      <th>daily_vaccinations</th>\n",
       "      <th>total_vaccinations_per_hundred</th>\n",
       "      <th>people_vaccinated_per_hundred</th>\n",
       "      <th>people_fully_vaccinated_per_hundred</th>\n",
       "      <th>daily_vaccinations_per_million</th>\n",
       "      <th>vaccines</th>\n",
       "      <th>source_name</th>\n",
       "      <th>source_website</th>\n",
       "    </tr>\n",
       "  </thead>\n",
       "  <tbody>\n",
       "    <tr>\n",
       "      <th>6992</th>\n",
       "      <td>Israel</td>\n",
       "      <td>ISR</td>\n",
       "      <td>2020-12-19</td>\n",
       "      <td>61.0</td>\n",
       "      <td>61.0</td>\n",
       "      <td>NaN</td>\n",
       "      <td>NaN</td>\n",
       "      <td>NaN</td>\n",
       "      <td>0.00</td>\n",
       "      <td>0.00</td>\n",
       "      <td>NaN</td>\n",
       "      <td>NaN</td>\n",
       "      <td>Moderna, Pfizer/BioNTech</td>\n",
       "      <td>Government of Israel</td>\n",
       "      <td>https://datadashboard.health.gov.il/COVID-19/g...</td>\n",
       "    </tr>\n",
       "    <tr>\n",
       "      <th>6993</th>\n",
       "      <td>Israel</td>\n",
       "      <td>ISR</td>\n",
       "      <td>2020-12-20</td>\n",
       "      <td>7436.0</td>\n",
       "      <td>7436.0</td>\n",
       "      <td>NaN</td>\n",
       "      <td>7375.0</td>\n",
       "      <td>7375.0</td>\n",
       "      <td>0.09</td>\n",
       "      <td>0.09</td>\n",
       "      <td>NaN</td>\n",
       "      <td>852.0</td>\n",
       "      <td>Moderna, Pfizer/BioNTech</td>\n",
       "      <td>Government of Israel</td>\n",
       "      <td>https://datadashboard.health.gov.il/COVID-19/g...</td>\n",
       "    </tr>\n",
       "    <tr>\n",
       "      <th>6994</th>\n",
       "      <td>Israel</td>\n",
       "      <td>ISR</td>\n",
       "      <td>2020-12-21</td>\n",
       "      <td>32318.0</td>\n",
       "      <td>32318.0</td>\n",
       "      <td>NaN</td>\n",
       "      <td>24882.0</td>\n",
       "      <td>16128.0</td>\n",
       "      <td>0.37</td>\n",
       "      <td>0.37</td>\n",
       "      <td>NaN</td>\n",
       "      <td>1863.0</td>\n",
       "      <td>Moderna, Pfizer/BioNTech</td>\n",
       "      <td>Government of Israel</td>\n",
       "      <td>https://datadashboard.health.gov.il/COVID-19/g...</td>\n",
       "    </tr>\n",
       "    <tr>\n",
       "      <th>6995</th>\n",
       "      <td>Israel</td>\n",
       "      <td>ISR</td>\n",
       "      <td>2020-12-22</td>\n",
       "      <td>76938.0</td>\n",
       "      <td>76938.0</td>\n",
       "      <td>NaN</td>\n",
       "      <td>44620.0</td>\n",
       "      <td>25626.0</td>\n",
       "      <td>0.89</td>\n",
       "      <td>0.89</td>\n",
       "      <td>NaN</td>\n",
       "      <td>2961.0</td>\n",
       "      <td>Moderna, Pfizer/BioNTech</td>\n",
       "      <td>Government of Israel</td>\n",
       "      <td>https://datadashboard.health.gov.il/COVID-19/g...</td>\n",
       "    </tr>\n",
       "    <tr>\n",
       "      <th>6996</th>\n",
       "      <td>Israel</td>\n",
       "      <td>ISR</td>\n",
       "      <td>2020-12-23</td>\n",
       "      <td>139779.0</td>\n",
       "      <td>139779.0</td>\n",
       "      <td>NaN</td>\n",
       "      <td>62841.0</td>\n",
       "      <td>34930.0</td>\n",
       "      <td>1.61</td>\n",
       "      <td>1.61</td>\n",
       "      <td>NaN</td>\n",
       "      <td>4036.0</td>\n",
       "      <td>Moderna, Pfizer/BioNTech</td>\n",
       "      <td>Government of Israel</td>\n",
       "      <td>https://datadashboard.health.gov.il/COVID-19/g...</td>\n",
       "    </tr>\n",
       "    <tr>\n",
       "      <th>...</th>\n",
       "      <td>...</td>\n",
       "      <td>...</td>\n",
       "      <td>...</td>\n",
       "      <td>...</td>\n",
       "      <td>...</td>\n",
       "      <td>...</td>\n",
       "      <td>...</td>\n",
       "      <td>...</td>\n",
       "      <td>...</td>\n",
       "      <td>...</td>\n",
       "      <td>...</td>\n",
       "      <td>...</td>\n",
       "      <td>...</td>\n",
       "      <td>...</td>\n",
       "      <td>...</td>\n",
       "    </tr>\n",
       "    <tr>\n",
       "      <th>7126</th>\n",
       "      <td>Israel</td>\n",
       "      <td>ISR</td>\n",
       "      <td>2021-05-02</td>\n",
       "      <td>10459346.0</td>\n",
       "      <td>5404275.0</td>\n",
       "      <td>5055071.0</td>\n",
       "      <td>9087.0</td>\n",
       "      <td>8726.0</td>\n",
       "      <td>120.84</td>\n",
       "      <td>62.44</td>\n",
       "      <td>58.40</td>\n",
       "      <td>1008.0</td>\n",
       "      <td>Moderna, Pfizer/BioNTech</td>\n",
       "      <td>Government of Israel</td>\n",
       "      <td>https://datadashboard.health.gov.il/COVID-19/g...</td>\n",
       "    </tr>\n",
       "    <tr>\n",
       "      <th>7127</th>\n",
       "      <td>Israel</td>\n",
       "      <td>ISR</td>\n",
       "      <td>2021-05-03</td>\n",
       "      <td>10468341.0</td>\n",
       "      <td>5407666.0</td>\n",
       "      <td>5060675.0</td>\n",
       "      <td>8995.0</td>\n",
       "      <td>8185.0</td>\n",
       "      <td>120.94</td>\n",
       "      <td>62.48</td>\n",
       "      <td>58.47</td>\n",
       "      <td>946.0</td>\n",
       "      <td>Moderna, Pfizer/BioNTech</td>\n",
       "      <td>Government of Israel</td>\n",
       "      <td>https://datadashboard.health.gov.il/COVID-19/g...</td>\n",
       "    </tr>\n",
       "    <tr>\n",
       "      <th>7128</th>\n",
       "      <td>Israel</td>\n",
       "      <td>ISR</td>\n",
       "      <td>2021-05-04</td>\n",
       "      <td>10476214.0</td>\n",
       "      <td>5411033.0</td>\n",
       "      <td>5065181.0</td>\n",
       "      <td>7873.0</td>\n",
       "      <td>7774.0</td>\n",
       "      <td>121.03</td>\n",
       "      <td>62.52</td>\n",
       "      <td>58.52</td>\n",
       "      <td>898.0</td>\n",
       "      <td>Moderna, Pfizer/BioNTech</td>\n",
       "      <td>Government of Israel</td>\n",
       "      <td>https://datadashboard.health.gov.il/COVID-19/g...</td>\n",
       "    </tr>\n",
       "    <tr>\n",
       "      <th>7129</th>\n",
       "      <td>Israel</td>\n",
       "      <td>ISR</td>\n",
       "      <td>2021-05-05</td>\n",
       "      <td>10482976.0</td>\n",
       "      <td>5414047.0</td>\n",
       "      <td>5068929.0</td>\n",
       "      <td>6762.0</td>\n",
       "      <td>7118.0</td>\n",
       "      <td>121.11</td>\n",
       "      <td>62.55</td>\n",
       "      <td>58.56</td>\n",
       "      <td>822.0</td>\n",
       "      <td>Moderna, Pfizer/BioNTech</td>\n",
       "      <td>Government of Israel</td>\n",
       "      <td>https://datadashboard.health.gov.il/COVID-19/g...</td>\n",
       "    </tr>\n",
       "    <tr>\n",
       "      <th>7130</th>\n",
       "      <td>Israel</td>\n",
       "      <td>ISR</td>\n",
       "      <td>2021-05-06</td>\n",
       "      <td>10489167.0</td>\n",
       "      <td>5417346.0</td>\n",
       "      <td>5071821.0</td>\n",
       "      <td>6191.0</td>\n",
       "      <td>6402.0</td>\n",
       "      <td>121.18</td>\n",
       "      <td>62.59</td>\n",
       "      <td>58.60</td>\n",
       "      <td>740.0</td>\n",
       "      <td>Moderna, Pfizer/BioNTech</td>\n",
       "      <td>Government of Israel</td>\n",
       "      <td>https://datadashboard.health.gov.il/COVID-19/g...</td>\n",
       "    </tr>\n",
       "  </tbody>\n",
       "</table>\n",
       "<p>139 rows × 15 columns</p>\n",
       "</div>"
      ],
      "text/plain": [
       "     country iso_code       date  total_vaccinations  people_vaccinated  \\\n",
       "6992  Israel      ISR 2020-12-19                61.0               61.0   \n",
       "6993  Israel      ISR 2020-12-20              7436.0             7436.0   \n",
       "6994  Israel      ISR 2020-12-21             32318.0            32318.0   \n",
       "6995  Israel      ISR 2020-12-22             76938.0            76938.0   \n",
       "6996  Israel      ISR 2020-12-23            139779.0           139779.0   \n",
       "...      ...      ...        ...                 ...                ...   \n",
       "7126  Israel      ISR 2021-05-02          10459346.0          5404275.0   \n",
       "7127  Israel      ISR 2021-05-03          10468341.0          5407666.0   \n",
       "7128  Israel      ISR 2021-05-04          10476214.0          5411033.0   \n",
       "7129  Israel      ISR 2021-05-05          10482976.0          5414047.0   \n",
       "7130  Israel      ISR 2021-05-06          10489167.0          5417346.0   \n",
       "\n",
       "      people_fully_vaccinated  daily_vaccinations_raw  daily_vaccinations  \\\n",
       "6992                      NaN                     NaN                 NaN   \n",
       "6993                      NaN                  7375.0              7375.0   \n",
       "6994                      NaN                 24882.0             16128.0   \n",
       "6995                      NaN                 44620.0             25626.0   \n",
       "6996                      NaN                 62841.0             34930.0   \n",
       "...                       ...                     ...                 ...   \n",
       "7126                5055071.0                  9087.0              8726.0   \n",
       "7127                5060675.0                  8995.0              8185.0   \n",
       "7128                5065181.0                  7873.0              7774.0   \n",
       "7129                5068929.0                  6762.0              7118.0   \n",
       "7130                5071821.0                  6191.0              6402.0   \n",
       "\n",
       "      total_vaccinations_per_hundred  people_vaccinated_per_hundred  \\\n",
       "6992                            0.00                           0.00   \n",
       "6993                            0.09                           0.09   \n",
       "6994                            0.37                           0.37   \n",
       "6995                            0.89                           0.89   \n",
       "6996                            1.61                           1.61   \n",
       "...                              ...                            ...   \n",
       "7126                          120.84                          62.44   \n",
       "7127                          120.94                          62.48   \n",
       "7128                          121.03                          62.52   \n",
       "7129                          121.11                          62.55   \n",
       "7130                          121.18                          62.59   \n",
       "\n",
       "      people_fully_vaccinated_per_hundred  daily_vaccinations_per_million  \\\n",
       "6992                                  NaN                             NaN   \n",
       "6993                                  NaN                           852.0   \n",
       "6994                                  NaN                          1863.0   \n",
       "6995                                  NaN                          2961.0   \n",
       "6996                                  NaN                          4036.0   \n",
       "...                                   ...                             ...   \n",
       "7126                                58.40                          1008.0   \n",
       "7127                                58.47                           946.0   \n",
       "7128                                58.52                           898.0   \n",
       "7129                                58.56                           822.0   \n",
       "7130                                58.60                           740.0   \n",
       "\n",
       "                      vaccines           source_name  \\\n",
       "6992  Moderna, Pfizer/BioNTech  Government of Israel   \n",
       "6993  Moderna, Pfizer/BioNTech  Government of Israel   \n",
       "6994  Moderna, Pfizer/BioNTech  Government of Israel   \n",
       "6995  Moderna, Pfizer/BioNTech  Government of Israel   \n",
       "6996  Moderna, Pfizer/BioNTech  Government of Israel   \n",
       "...                        ...                   ...   \n",
       "7126  Moderna, Pfizer/BioNTech  Government of Israel   \n",
       "7127  Moderna, Pfizer/BioNTech  Government of Israel   \n",
       "7128  Moderna, Pfizer/BioNTech  Government of Israel   \n",
       "7129  Moderna, Pfizer/BioNTech  Government of Israel   \n",
       "7130  Moderna, Pfizer/BioNTech  Government of Israel   \n",
       "\n",
       "                                         source_website  \n",
       "6992  https://datadashboard.health.gov.il/COVID-19/g...  \n",
       "6993  https://datadashboard.health.gov.il/COVID-19/g...  \n",
       "6994  https://datadashboard.health.gov.il/COVID-19/g...  \n",
       "6995  https://datadashboard.health.gov.il/COVID-19/g...  \n",
       "6996  https://datadashboard.health.gov.il/COVID-19/g...  \n",
       "...                                                 ...  \n",
       "7126  https://datadashboard.health.gov.il/COVID-19/g...  \n",
       "7127  https://datadashboard.health.gov.il/COVID-19/g...  \n",
       "7128  https://datadashboard.health.gov.il/COVID-19/g...  \n",
       "7129  https://datadashboard.health.gov.il/COVID-19/g...  \n",
       "7130  https://datadashboard.health.gov.il/COVID-19/g...  \n",
       "\n",
       "[139 rows x 15 columns]"
      ]
     },
     "execution_count": 17,
     "metadata": {},
     "output_type": "execute_result"
    }
   ],
   "source": [
    "\n",
    "#Set dates to dates\n",
    "data['date'] = pd.to_datetime(data['date'])\n",
    "#Combine vaccination frame with brand frame\n",
    "\n",
    "#assignment 3\n",
    "\n",
    "#Set up individual country data frames\n",
    "df_us = data[ data['country'] == 'United States']\n",
    "df_is = data[ data['country'] == 'Israel']\n",
    "df_ir = data[ data['country'] == 'Ireland']\n",
    "df_jp = data[ data['country'] == 'Japan']\n",
    "df_ch = data[ data['country'] == 'China']\n",
    "df_sa = data[ data['country'] == 'South Africa']\n",
    "df_bz = data[ data['country'] == 'Brazil' ]\n",
    "\n",
    "df_is"
   ]
  },
  {
   "cell_type": "markdown",
   "metadata": {},
   "source": [
    "Check for & remove null rows"
   ]
  },
  {
   "cell_type": "code",
   "execution_count": 8,
   "metadata": {},
   "outputs": [],
   "source": [
    "\n",
    "df_us = df_us[df_us['total_vaccinations_per_hundred'].notna()]\n",
    "df_is = df_is[df_is['total_vaccinations_per_hundred'].notna()]\n",
    "df_ir = df_ir[df_ir['total_vaccinations_per_hundred'].notna()]\n",
    "df_jp = df_jp[df_jp['total_vaccinations_per_hundred'].notna()]\n",
    "df_ch = df_ch[df_ch['total_vaccinations_per_hundred'].notna()]\n",
    "df_sa = df_sa[df_sa['total_vaccinations_per_hundred'].notna()]\n",
    "df_bz = df_bz[df_bz['total_vaccinations_per_hundred'].notna()]\n",
    "\n",
    "\n"
   ]
  },
  {
   "cell_type": "markdown",
   "metadata": {},
   "source": [
    "What brands of vaccine are used? Here, we use the second data set, information about the vaccines in use by each country. "
   ]
  },
  {
   "cell_type": "code",
   "execution_count": 10,
   "metadata": {},
   "outputs": [
    {
     "data": {
      "text/html": [
       "<div>\n",
       "<style scoped>\n",
       "    .dataframe tbody tr th:only-of-type {\n",
       "        vertical-align: middle;\n",
       "    }\n",
       "\n",
       "    .dataframe tbody tr th {\n",
       "        vertical-align: top;\n",
       "    }\n",
       "\n",
       "    .dataframe thead th {\n",
       "        text-align: right;\n",
       "    }\n",
       "</style>\n",
       "<table border=\"1\" class=\"dataframe\">\n",
       "  <thead>\n",
       "    <tr style=\"text-align: right;\">\n",
       "      <th></th>\n",
       "      <th>location</th>\n",
       "      <th>date</th>\n",
       "      <th>vaccine</th>\n",
       "      <th>total_vaccinations</th>\n",
       "    </tr>\n",
       "  </thead>\n",
       "  <tbody>\n",
       "    <tr>\n",
       "      <th>0</th>\n",
       "      <td>Chile</td>\n",
       "      <td>2020-12-24</td>\n",
       "      <td>Pfizer/BioNTech</td>\n",
       "      <td>420</td>\n",
       "    </tr>\n",
       "    <tr>\n",
       "      <th>1</th>\n",
       "      <td>Chile</td>\n",
       "      <td>2020-12-25</td>\n",
       "      <td>Pfizer/BioNTech</td>\n",
       "      <td>5198</td>\n",
       "    </tr>\n",
       "    <tr>\n",
       "      <th>2</th>\n",
       "      <td>Chile</td>\n",
       "      <td>2020-12-26</td>\n",
       "      <td>Pfizer/BioNTech</td>\n",
       "      <td>8338</td>\n",
       "    </tr>\n",
       "    <tr>\n",
       "      <th>3</th>\n",
       "      <td>Chile</td>\n",
       "      <td>2020-12-27</td>\n",
       "      <td>Pfizer/BioNTech</td>\n",
       "      <td>8649</td>\n",
       "    </tr>\n",
       "    <tr>\n",
       "      <th>4</th>\n",
       "      <td>Chile</td>\n",
       "      <td>2020-12-28</td>\n",
       "      <td>Pfizer/BioNTech</td>\n",
       "      <td>8649</td>\n",
       "    </tr>\n",
       "  </tbody>\n",
       "</table>\n",
       "</div>"
      ],
      "text/plain": [
       "  location        date          vaccine  total_vaccinations\n",
       "0    Chile  2020-12-24  Pfizer/BioNTech                 420\n",
       "1    Chile  2020-12-25  Pfizer/BioNTech                5198\n",
       "2    Chile  2020-12-26  Pfizer/BioNTech                8338\n",
       "3    Chile  2020-12-27  Pfizer/BioNTech                8649\n",
       "4    Chile  2020-12-28  Pfizer/BioNTech                8649"
      ]
     },
     "execution_count": 10,
     "metadata": {},
     "output_type": "execute_result"
    }
   ],
   "source": [
    "url2 = 'https://raw.githubusercontent.com/omeldrum/DSCI235_Final_Project/master/country_vaccinations_by_manufacturer.csv'\n",
    "data2 = pd.read_csv(url2)\n",
    "\n",
    "data2.head()\n"
   ]
  },
  {
   "cell_type": "code",
   "execution_count": 12,
   "metadata": {},
   "outputs": [
    {
     "data": {
      "text/html": [
       "<div>\n",
       "<style scoped>\n",
       "    .dataframe tbody tr th:only-of-type {\n",
       "        vertical-align: middle;\n",
       "    }\n",
       "\n",
       "    .dataframe tbody tr th {\n",
       "        vertical-align: top;\n",
       "    }\n",
       "\n",
       "    .dataframe thead th {\n",
       "        text-align: right;\n",
       "    }\n",
       "</style>\n",
       "<table border=\"1\" class=\"dataframe\">\n",
       "  <thead>\n",
       "    <tr style=\"text-align: right;\">\n",
       "      <th></th>\n",
       "      <th>Vaccine</th>\n",
       "    </tr>\n",
       "  </thead>\n",
       "  <tbody>\n",
       "    <tr>\n",
       "      <th>United States</th>\n",
       "      <td>Johnson&amp;Johnson, Moderna, Pfizer/BioNTech</td>\n",
       "    </tr>\n",
       "    <tr>\n",
       "      <th>Israel</th>\n",
       "      <td>Moderna, Pfizer/BioNTech</td>\n",
       "    </tr>\n",
       "    <tr>\n",
       "      <th>Ireland</th>\n",
       "      <td>Moderna, Oxford/AstraZeneca, Pfizer/BioNTech</td>\n",
       "    </tr>\n",
       "    <tr>\n",
       "      <th>Japan</th>\n",
       "      <td>Pfizer/BioNTech</td>\n",
       "    </tr>\n",
       "    <tr>\n",
       "      <th>China</th>\n",
       "      <td>Sinopharm/Beijing, Sinopharm/Wuhan, Sinovac</td>\n",
       "    </tr>\n",
       "    <tr>\n",
       "      <th>South Africa</th>\n",
       "      <td>Johnson&amp;Johnson</td>\n",
       "    </tr>\n",
       "    <tr>\n",
       "      <th>Brazil</th>\n",
       "      <td>Oxford/AstraZeneca, Sinovac</td>\n",
       "    </tr>\n",
       "  </tbody>\n",
       "</table>\n",
       "</div>"
      ],
      "text/plain": [
       "                                                    Vaccine\n",
       "United States     Johnson&Johnson, Moderna, Pfizer/BioNTech\n",
       "Israel                             Moderna, Pfizer/BioNTech\n",
       "Ireland        Moderna, Oxford/AstraZeneca, Pfizer/BioNTech\n",
       "Japan                                       Pfizer/BioNTech\n",
       "China           Sinopharm/Beijing, Sinopharm/Wuhan, Sinovac\n",
       "South Africa                                Johnson&Johnson\n",
       "Brazil                          Oxford/AstraZeneca, Sinovac"
      ]
     },
     "execution_count": 12,
     "metadata": {},
     "output_type": "execute_result"
    }
   ],
   "source": [
    "df_us2 = data2[ data2['location'] == 'United States']\n",
    "df_is2 = data2[ data2['location'] == 'Israel']\n",
    "df_ir2 = data2[ data2['location'] == 'Ireland']\n",
    "df_jp2 = data2[ data2['location'] == 'Japan']\n",
    "df_ch2 = data2[ data2['location'] == 'China']\n",
    "df_sa2 = data2[ data2['location'] == 'South Africa']\n",
    "df_bz2 = data2[ data2['location'] == 'Brazil' ]\n",
    "\n",
    "\n",
    "\n",
    "\n",
    "brands = pd.DataFrame([df_us['vaccines'].unique(), df_is['vaccines'].unique(), df_ir['vaccines'].unique(), df_jp['vaccines'].unique(), df_ch['vaccines'].unique(), df_sa['vaccines'].unique(), df_bz['vaccines'].unique()],columns=['Vaccine'],index=['United States', 'Israel', 'Ireland', 'Japan', 'China', 'South Africa', 'Brazil'])\n",
    "brands"
   ]
  },
  {
   "cell_type": "markdown",
   "metadata": {},
   "source": [
    "Total Vaccinations plot: \n",
    "Here we compare the number of vaccinations given by each country since January 2021. While China has given out the most vaccines, it is important to note how many more residents they have when compared to the other countries. "
   ]
  },
  {
   "cell_type": "code",
   "execution_count": 13,
   "metadata": {},
   "outputs": [
    {
     "data": {
      "image/png": "[encoded data removed]",
      "text/plain": [
       "<Figure size 432x288 with 1 Axes>"
      ]
     },
     "metadata": {
      "needs_background": "light"
     },
     "output_type": "display_data"
    }
   ],
   "source": [
    "\n",
    "\n",
    "# multiple line plots\n",
    "plt.plot( 'date', 'total_vaccinations', data=df_us, marker='',  color='blue', linewidth=2,  label=\"United States\")\n",
    "plt.plot( 'date', 'total_vaccinations', data=df_is, marker='', color='skyblue', linewidth=2, label=\"Israel\")\n",
    "plt.plot( 'date', 'total_vaccinations', data=df_ir, marker='', color='orange', linewidth=2, linestyle='dashed', label=\"Ireland\")\n",
    "plt.plot( 'date', 'total_vaccinations', data=df_jp, marker='',  color='pink', linewidth=2,  label=\"Japan\")\n",
    "plt.plot( 'date', 'total_vaccinations', data=df_ch, marker='', color='red', linewidth=2, label=\"China\")\n",
    "plt.plot( 'date', 'total_vaccinations', data=df_sa, marker='', color='green', linewidth=2, linestyle='dashed', label=\"South Africa\")\n",
    "plt.plot( 'date', 'total_vaccinations', data=df_bz, marker='', color='yellow', linewidth=2, linestyle='dashed', label=\"Brazil\")\n",
    "\n",
    "# show legend\n",
    "plt.legend()\n",
    "\n",
    "# show graph\n",
    "plt.show()"
   ]
  },
  {
   "cell_type": "markdown",
   "metadata": {},
   "source": [
    "Because of the issues with population size, we create a new coulmn in the data frames that devides the number of vaccines given by the population of each country (source: https://www.worldometers.info/world-population/population-by-country/) "
   ]
  },
  {
   "cell_type": "code",
   "execution_count": 51,
   "metadata": {},
   "outputs": [
    {
     "name": "stderr",
     "output_type": "stream",
     "text": [
      "<ipython-input-51-2dacf7a79d79>:1: SettingWithCopyWarning: \n",
      "A value is trying to be set on a copy of a slice from a DataFrame.\n",
      "Try using .loc[row_indexer,col_indexer] = value instead\n",
      "\n",
      "See the caveats in the documentation: https://pandas.pydata.org/pandas-docs/stable/user_guide/indexing.html#returning-a-view-versus-a-copy\n",
      "  df_us['percent_pop'] =(df_us['total_vaccinations']/331002651)*100\n",
      "<ipython-input-51-2dacf7a79d79>:2: SettingWithCopyWarning: \n",
      "A value is trying to be set on a copy of a slice from a DataFrame.\n",
      "Try using .loc[row_indexer,col_indexer] = value instead\n",
      "\n",
      "See the caveats in the documentation: https://pandas.pydata.org/pandas-docs/stable/user_guide/indexing.html#returning-a-view-versus-a-copy\n",
      "  df_is['percent_pop'] =(df_is['total_vaccinations']/8655535)*100\n",
      "<ipython-input-51-2dacf7a79d79>:3: SettingWithCopyWarning: \n",
      "A value is trying to be set on a copy of a slice from a DataFrame.\n",
      "Try using .loc[row_indexer,col_indexer] = value instead\n",
      "\n",
      "See the caveats in the documentation: https://pandas.pydata.org/pandas-docs/stable/user_guide/indexing.html#returning-a-view-versus-a-copy\n",
      "  df_ir['percent_pop'] =(df_ir['total_vaccinations']/4937786)*100\n",
      "<ipython-input-51-2dacf7a79d79>:4: SettingWithCopyWarning: \n",
      "A value is trying to be set on a copy of a slice from a DataFrame.\n",
      "Try using .loc[row_indexer,col_indexer] = value instead\n",
      "\n",
      "See the caveats in the documentation: https://pandas.pydata.org/pandas-docs/stable/user_guide/indexing.html#returning-a-view-versus-a-copy\n",
      "  df_jp['percent_pop'] =(df_jp['total_vaccinations']/126476461)*100\n",
      "<ipython-input-51-2dacf7a79d79>:5: SettingWithCopyWarning: \n",
      "A value is trying to be set on a copy of a slice from a DataFrame.\n",
      "Try using .loc[row_indexer,col_indexer] = value instead\n",
      "\n",
      "See the caveats in the documentation: https://pandas.pydata.org/pandas-docs/stable/user_guide/indexing.html#returning-a-view-versus-a-copy\n",
      "  df_ch['percent_pop'] =(df_ch['total_vaccinations']/1439323776)*100\n",
      "<ipython-input-51-2dacf7a79d79>:6: SettingWithCopyWarning: \n",
      "A value is trying to be set on a copy of a slice from a DataFrame.\n",
      "Try using .loc[row_indexer,col_indexer] = value instead\n",
      "\n",
      "See the caveats in the documentation: https://pandas.pydata.org/pandas-docs/stable/user_guide/indexing.html#returning-a-view-versus-a-copy\n",
      "  df_sa['percent_pop'] =(df_sa['total_vaccinations']/59308690)*100\n",
      "<ipython-input-51-2dacf7a79d79>:7: SettingWithCopyWarning: \n",
      "A value is trying to be set on a copy of a slice from a DataFrame.\n",
      "Try using .loc[row_indexer,col_indexer] = value instead\n",
      "\n",
      "See the caveats in the documentation: https://pandas.pydata.org/pandas-docs/stable/user_guide/indexing.html#returning-a-view-versus-a-copy\n",
      "  df_bz['percent_pop'] =(df_bz['total_vaccinations']/212559417)*100\n"
     ]
    },
    {
     "data": {
      "text/html": [
       "<div>\n",
       "<style scoped>\n",
       "    .dataframe tbody tr th:only-of-type {\n",
       "        vertical-align: middle;\n",
       "    }\n",
       "\n",
       "    .dataframe tbody tr th {\n",
       "        vertical-align: top;\n",
       "    }\n",
       "\n",
       "    .dataframe thead th {\n",
       "        text-align: right;\n",
       "    }\n",
       "</style>\n",
       "<table border=\"1\" class=\"dataframe\">\n",
       "  <thead>\n",
       "    <tr style=\"text-align: right;\">\n",
       "      <th></th>\n",
       "      <th>country</th>\n",
       "      <th>iso_code</th>\n",
       "      <th>date</th>\n",
       "      <th>total_vaccinations</th>\n",
       "      <th>people_vaccinated</th>\n",
       "      <th>people_fully_vaccinated</th>\n",
       "      <th>daily_vaccinations_raw</th>\n",
       "      <th>daily_vaccinations</th>\n",
       "      <th>total_vaccinations_per_hundred</th>\n",
       "      <th>people_vaccinated_per_hundred</th>\n",
       "      <th>people_fully_vaccinated_per_hundred</th>\n",
       "      <th>daily_vaccinations_per_million</th>\n",
       "      <th>vaccines</th>\n",
       "      <th>source_name</th>\n",
       "      <th>source_website</th>\n",
       "      <th>percent_pop</th>\n",
       "    </tr>\n",
       "  </thead>\n",
       "  <tbody>\n",
       "    <tr>\n",
       "      <th>13438</th>\n",
       "      <td>South Africa</td>\n",
       "      <td>ZAF</td>\n",
       "      <td>2021-02-16</td>\n",
       "      <td>0.0</td>\n",
       "      <td>0.0</td>\n",
       "      <td>NaN</td>\n",
       "      <td>NaN</td>\n",
       "      <td>NaN</td>\n",
       "      <td>0.00</td>\n",
       "      <td>0.00</td>\n",
       "      <td>NaN</td>\n",
       "      <td>NaN</td>\n",
       "      <td>Johnson&amp;Johnson</td>\n",
       "      <td>Ministry of Health</td>\n",
       "      <td>https://sacoronavirus.co.za/</td>\n",
       "      <td>0.000000</td>\n",
       "    </tr>\n",
       "    <tr>\n",
       "      <th>13439</th>\n",
       "      <td>South Africa</td>\n",
       "      <td>ZAF</td>\n",
       "      <td>2021-02-17</td>\n",
       "      <td>NaN</td>\n",
       "      <td>NaN</td>\n",
       "      <td>NaN</td>\n",
       "      <td>NaN</td>\n",
       "      <td>1130.0</td>\n",
       "      <td>NaN</td>\n",
       "      <td>NaN</td>\n",
       "      <td>NaN</td>\n",
       "      <td>19.0</td>\n",
       "      <td>Johnson&amp;Johnson</td>\n",
       "      <td>Ministry of Health</td>\n",
       "      <td>https://sacoronavirus.co.za/</td>\n",
       "      <td>NaN</td>\n",
       "    </tr>\n",
       "    <tr>\n",
       "      <th>13440</th>\n",
       "      <td>South Africa</td>\n",
       "      <td>ZAF</td>\n",
       "      <td>2021-02-18</td>\n",
       "      <td>2260.0</td>\n",
       "      <td>2260.0</td>\n",
       "      <td>2260.0</td>\n",
       "      <td>NaN</td>\n",
       "      <td>1130.0</td>\n",
       "      <td>0.00</td>\n",
       "      <td>0.00</td>\n",
       "      <td>0.00</td>\n",
       "      <td>19.0</td>\n",
       "      <td>Johnson&amp;Johnson</td>\n",
       "      <td>Ministry of Health</td>\n",
       "      <td>https://sacoronavirus.co.za/</td>\n",
       "      <td>0.003811</td>\n",
       "    </tr>\n",
       "    <tr>\n",
       "      <th>13441</th>\n",
       "      <td>South Africa</td>\n",
       "      <td>ZAF</td>\n",
       "      <td>2021-02-19</td>\n",
       "      <td>6524.0</td>\n",
       "      <td>6524.0</td>\n",
       "      <td>6524.0</td>\n",
       "      <td>4264.0</td>\n",
       "      <td>2175.0</td>\n",
       "      <td>0.01</td>\n",
       "      <td>0.01</td>\n",
       "      <td>0.01</td>\n",
       "      <td>37.0</td>\n",
       "      <td>Johnson&amp;Johnson</td>\n",
       "      <td>Ministry of Health</td>\n",
       "      <td>https://sacoronavirus.co.za/</td>\n",
       "      <td>0.011000</td>\n",
       "    </tr>\n",
       "    <tr>\n",
       "      <th>13442</th>\n",
       "      <td>South Africa</td>\n",
       "      <td>ZAF</td>\n",
       "      <td>2021-02-20</td>\n",
       "      <td>10414.0</td>\n",
       "      <td>10414.0</td>\n",
       "      <td>10414.0</td>\n",
       "      <td>3890.0</td>\n",
       "      <td>2604.0</td>\n",
       "      <td>0.02</td>\n",
       "      <td>0.02</td>\n",
       "      <td>0.02</td>\n",
       "      <td>44.0</td>\n",
       "      <td>Johnson&amp;Johnson</td>\n",
       "      <td>Ministry of Health</td>\n",
       "      <td>https://sacoronavirus.co.za/</td>\n",
       "      <td>0.017559</td>\n",
       "    </tr>\n",
       "  </tbody>\n",
       "</table>\n",
       "</div>"
      ],
      "text/plain": [
       "            country iso_code       date  total_vaccinations  \\\n",
       "13438  South Africa      ZAF 2021-02-16                 0.0   \n",
       "13439  South Africa      ZAF 2021-02-17                 NaN   \n",
       "13440  South Africa      ZAF 2021-02-18              2260.0   \n",
       "13441  South Africa      ZAF 2021-02-19              6524.0   \n",
       "13442  South Africa      ZAF 2021-02-20             10414.0   \n",
       "\n",
       "       people_vaccinated  people_fully_vaccinated  daily_vaccinations_raw  \\\n",
       "13438                0.0                      NaN                     NaN   \n",
       "13439                NaN                      NaN                     NaN   \n",
       "13440             2260.0                   2260.0                     NaN   \n",
       "13441             6524.0                   6524.0                  4264.0   \n",
       "13442            10414.0                  10414.0                  3890.0   \n",
       "\n",
       "       daily_vaccinations  total_vaccinations_per_hundred  \\\n",
       "13438                 NaN                            0.00   \n",
       "13439              1130.0                             NaN   \n",
       "13440              1130.0                            0.00   \n",
       "13441              2175.0                            0.01   \n",
       "13442              2604.0                            0.02   \n",
       "\n",
       "       people_vaccinated_per_hundred  people_fully_vaccinated_per_hundred  \\\n",
       "13438                           0.00                                  NaN   \n",
       "13439                            NaN                                  NaN   \n",
       "13440                           0.00                                 0.00   \n",
       "13441                           0.01                                 0.01   \n",
       "13442                           0.02                                 0.02   \n",
       "\n",
       "       daily_vaccinations_per_million         vaccines         source_name  \\\n",
       "13438                             NaN  Johnson&Johnson  Ministry of Health   \n",
       "13439                            19.0  Johnson&Johnson  Ministry of Health   \n",
       "13440                            19.0  Johnson&Johnson  Ministry of Health   \n",
       "13441                            37.0  Johnson&Johnson  Ministry of Health   \n",
       "13442                            44.0  Johnson&Johnson  Ministry of Health   \n",
       "\n",
       "                     source_website  percent_pop  \n",
       "13438  https://sacoronavirus.co.za/     0.000000  \n",
       "13439  https://sacoronavirus.co.za/          NaN  \n",
       "13440  https://sacoronavirus.co.za/     0.003811  \n",
       "13441  https://sacoronavirus.co.za/     0.011000  \n",
       "13442  https://sacoronavirus.co.za/     0.017559  "
      ]
     },
     "execution_count": 51,
     "metadata": {},
     "output_type": "execute_result"
    }
   ],
   "source": [
    "df_us['percent_pop'] =(df_us['total_vaccinations']/331002651)*100\n",
    "df_is['percent_pop'] =(df_is['total_vaccinations']/8655535)*100\n",
    "df_ir['percent_pop'] =(df_ir['total_vaccinations']/4937786)*100\n",
    "df_jp['percent_pop'] =(df_jp['total_vaccinations']/126476461)*100\n",
    "df_ch['percent_pop'] =(df_ch['total_vaccinations']/1439323776)*100\n",
    "df_sa['percent_pop'] =(df_sa['total_vaccinations']/59308690)*100\n",
    "df_bz['percent_pop'] =(df_bz['total_vaccinations']/212559417)*100\n",
    "\n",
    "df_sa.head()"
   ]
  },
  {
   "cell_type": "code",
   "execution_count": 52,
   "metadata": {},
   "outputs": [
    {
     "data": {
      "image/png": "[encoded data removed]",
      "text/plain": [
       "<Figure size 432x288 with 1 Axes>"
      ]
     },
     "metadata": {
      "needs_background": "light"
     },
     "output_type": "display_data"
    }
   ],
   "source": [
    "# multiple line plots\n",
    "plt.plot( 'date', 'percent_pop', data=df_us, marker='',  color='blue', linewidth=2,  label=\"United States\")\n",
    "plt.plot( 'date', 'percent_pop', data=df_is, marker='', color='skyblue', linewidth=2, label=\"Israel\")\n",
    "plt.plot( 'date', 'percent_pop', data=df_ir, marker='', color='orange', linewidth=2, linestyle='dashed', label=\"Ireland\")\n",
    "plt.plot( 'date', 'percent_pop', data=df_jp, marker='',  color='pink', linewidth=2,  label=\"Japan\")\n",
    "plt.plot( 'date', 'percent_pop', data=df_ch, marker='', color='red', linewidth=2, label=\"China\")\n",
    "plt.plot( 'date', 'percent_pop', data=df_sa, marker='', color='green', linewidth=2, linestyle='dashed', label=\"South Africa\")\n",
    "plt.plot( 'date', 'percent_pop', data=df_bz, marker='', color='yellow', linewidth=2, linestyle='dashed', label=\"Brazil\")\n",
    "\n",
    "# show legend\n",
    "plt.legend()\n",
    "\n",
    "# show graph\n",
    "plt.show()"
   ]
  },
  {
   "cell_type": "markdown",
   "metadata": {},
   "source": [
    "Here we see something very intresting. It would appear that Israel has vaccinated 120% of their population. But how can this be? This is an interpretation issue. The graph shows the total number of vaccines given, not how many people have been fully vaccinated. This is also why it appears that the US has about 75% vaccincation, when it is actully only about 38% as of May 9th (source: https://www.npr.org/sections/health-shots/2021/01/28/960901166/how-is-the-covid-19-vaccination-campaign-going-in-your-state). So while the intent of this graph was good, its information is faulty. "
   ]
  },
  {
   "cell_type": "markdown",
   "metadata": {},
   "source": [
    "**Daily Vaccinations** A good measure of how well vaccines are being rolled out is a contined increase in the number of vaccines given each day. "
   ]
  },
  {
   "cell_type": "code",
   "execution_count": 14,
   "metadata": {},
   "outputs": [
    {
     "data": {
      "image/png": "[encoded data removed]",
      "text/plain": [
       "<Figure size 432x288 with 1 Axes>"
      ]
     },
     "metadata": {
      "needs_background": "light"
     },
     "output_type": "display_data"
    }
   ],
   "source": [
    "\n",
    "# multiple line plots\n",
    "plt.plot( 'date', 'daily_vaccinations', data=df_us, marker='',  color='blue', linewidth=2,  label=\"United States\")\n",
    "plt.plot( 'date', 'daily_vaccinations', data=df_is, marker='', color='skyblue', linewidth=2, label=\"Israel\")\n",
    "plt.plot( 'date', 'daily_vaccinations', data=df_ir, marker='', color='orange', linewidth=2, linestyle='dashed', label=\"Ireland\")\n",
    "plt.plot( 'date', 'daily_vaccinations', data=df_jp, marker='',  color='pink', linewidth=2,  label=\"Japan\")\n",
    "plt.plot( 'date', 'daily_vaccinations', data=df_ch, marker='', color='red', linewidth=2, label=\"China\")\n",
    "plt.plot( 'date', 'daily_vaccinations', data=df_sa, marker='', color='green', linewidth=2, linestyle='dashed', label=\"South Africa\")\n",
    "plt.plot( 'date', 'daily_vaccinations', data=df_bz, marker='', color='yellow', linewidth=2, linestyle='dashed', label=\"Brazil\")\n",
    "\n",
    "# show legend\n",
    "plt.legend()\n",
    "\n",
    "# show graph\n",
    "plt.show()\n"
   ]
  },
  {
   "cell_type": "markdown",
   "metadata": {},
   "source": [
    "Here we can see that for most countries, the number of vaccinations given has begun to slow down. This is concerning for the goal of reaching herd immunity or the goal of getting 70% of the population vaccinated. Intrestingly, Israel, South Africa and Ireland appear to be holding flat in the number of vaccines they give per day. However, these countries have smaller populations when comared to the United States and China, so it is better to seperate them out to comapre them aginst each other. "
   ]
  },
  {
   "cell_type": "code",
   "execution_count": 50,
   "metadata": {},
   "outputs": [
    {
     "data": {
      "image/png": "[encoded data removed]",
      "text/plain": [
       "<Figure size 432x288 with 1 Axes>"
      ]
     },
     "metadata": {
      "needs_background": "light"
     },
     "output_type": "display_data"
    }
   ],
   "source": [
    "plt.plot( 'date', 'daily_vaccinations', data=df_sa, marker='', color='green', linewidth=2, linestyle='dashed', label=\"South Africa\")\n",
    "plt.plot( 'date', 'daily_vaccinations', data=df_is, marker='', color='skyblue', linewidth=2, label=\"Israel\")\n",
    "plt.plot( 'date', 'daily_vaccinations', data=df_ir, marker='', color='orange', linewidth=2, linestyle='dashed', label=\"Ireland\")\n",
    "# show legend\n",
    "plt.legend()\n",
    "\n",
    "# show graph\n",
    "plt.show()"
   ]
  },
  {
   "cell_type": "markdown",
   "metadata": {},
   "source": [
    "When compared to the smaller countries, we can see how quickly Israel rolled out their vaccination program, and how it is now dropping off. However, this is not cause for concern as Israel has enough of their population now vaccinated as they may have reached herd immunity (source: https://www.bbc.com/news/health-56722186) "
   ]
  },
  {
   "cell_type": "markdown",
   "metadata": {},
   "source": [
    "**People vaccinated per hundred** Ratio (in percent) between population immunized and total population up to the date in the country. This is the actual ratio that we were trying to predict before. "
   ]
  },
  {
   "cell_type": "code",
   "execution_count": 18,
   "metadata": {},
   "outputs": [
    {
     "data": {
      "image/png": "[encoded data removed]",
      "text/plain": [
       "<Figure size 432x288 with 1 Axes>"
      ]
     },
     "metadata": {
      "needs_background": "light"
     },
     "output_type": "display_data"
    }
   ],
   "source": [
    "\n",
    "# multiple line plots\n",
    "plt.plot( 'date', 'people_vaccinated_per_hundred', data=df_us, marker='',  color='blue', linewidth=2,  label=\"United States\")\n",
    "plt.plot( 'date', 'people_vaccinated_per_hundred', data=df_is, marker='', color='skyblue', linewidth=2, label=\"Israel\")\n",
    "plt.plot( 'date', 'people_vaccinated_per_hundred', data=df_ir, marker='', color='orange', linewidth=2, linestyle='dashed', label=\"Ireland\")\n",
    "plt.plot( 'date', 'people_vaccinated_per_hundred', data=df_jp, marker='',  color='pink', linewidth=2,  label=\"Japan\")\n",
    "plt.plot( 'date', 'people_vaccinated_per_hundred', data=df_ch, marker='', color='red', linewidth=2, label=\"China\")\n",
    "plt.plot( 'date', 'people_vaccinated_per_hundred', data=df_sa, marker='', color='green', linewidth=2, linestyle='dashed', label=\"South Africa\")\n",
    "plt.plot( 'date', 'people_vaccinated_per_hundred', data=df_bz, marker='', color='yellow', linewidth=2, linestyle='dashed', label=\"Brazil\")\n",
    "\n",
    "# show legend\n",
    "plt.legend()\n",
    "\n",
    "# show graph\n",
    "plt.show()"
   ]
  },
  {
   "cell_type": "markdown",
   "metadata": {},
   "source": [
    "Sadly, the data is not aviable for China. However, it is hearting to see that all countries (with the exception of Israel) are increasing the precent of their population immunized. "
   ]
  },
  {
   "cell_type": "markdown",
   "metadata": {},
   "source": [
    "My next question is how are the countries doing with their daily vaccination rates? Are there more days with more vaccinations? As we look at the graphs below, it is important to note that each has their own x-axis scale and thus cannot be compared directly. "
   ]
  },
  {
   "cell_type": "code",
   "execution_count": 43,
   "metadata": {},
   "outputs": [
    {
     "data": {
      "image/png": "[encoded data removed]",
      "text/plain": [
       "<Figure size 432x288 with 1 Axes>"
      ]
     },
     "metadata": {
      "needs_background": "light"
     },
     "output_type": "display_data"
    },
    {
     "data": {
      "image/png": "[encoded data removed]",
      "text/plain": [
       "<Figure size 432x288 with 1 Axes>"
      ]
     },
     "metadata": {
      "needs_background": "light"
     },
     "output_type": "display_data"
    },
    {
     "data": {
      "image/png": "[encoded data removed]",
      "text/plain": [
       "<Figure size 432x288 with 1 Axes>"
      ]
     },
     "metadata": {
      "needs_background": "light"
     },
     "output_type": "display_data"
    },
    {
     "data": {
      "image/png": "[encoded data removed]",
      "text/plain": [
       "<Figure size 432x288 with 1 Axes>"
      ]
     },
     "metadata": {
      "needs_background": "light"
     },
     "output_type": "display_data"
    },
    {
     "data": {
      "image/png": "[encoded data removed]",
      "text/plain": [
       "<Figure size 432x288 with 1 Axes>"
      ]
     },
     "metadata": {
      "needs_background": "light"
     },
     "output_type": "display_data"
    },
    {
     "data": {
      "image/png": "[encoded data removed]",
      "text/plain": [
       "<Figure size 432x288 with 1 Axes>"
      ]
     },
     "metadata": {
      "needs_background": "light"
     },
     "output_type": "display_data"
    },
    {
     "data": {
      "image/png": "[encoded data removed]",
      "text/plain": [
       "<Figure size 432x288 with 1 Axes>"
      ]
     },
     "metadata": {
      "needs_background": "light"
     },
     "output_type": "display_data"
    }
   ],
   "source": [
    "#bar chart\n",
    "#From assigment 1\n",
    "\n",
    "import matplotlib.pyplot as plt\n",
    "import numpy as np\n",
    "from matplotlib import colors\n",
    "from matplotlib.ticker import PercentFormatter\n",
    "\n",
    "\n",
    "df_us.hist('daily_vaccinations_per_million', bins=10, color = 'blue')\n",
    "df_is.hist('daily_vaccinations_per_million', bins=10, color = 'skyblue')\n",
    "df_ir.hist('daily_vaccinations_per_million', bins=10,color='orange')\n",
    "df_jp.hist('daily_vaccinations_per_million', bins=10,color='pink')\n",
    "df_ch.hist('daily_vaccinations_per_million', bins=10,color='red')\n",
    "df_sa.hist('daily_vaccinations_per_million', bins=10,color='green')\n",
    "df_bz.hist('daily_vaccinations_per_million', bins=10,color='yellow')\n",
    "\n",
    "\n",
    "plt.xlabel('Daily vaccinations per million',fontsize=12);\n",
    "plt.ylabel('Number of Days', fontsize=12);\n"
   ]
  },
  {
   "cell_type": "markdown",
   "metadata": {},
   "source": [
    "So in the end, the results are a mixed bag. Some countries like Israel are doing an excellent job and have already reached the assumed level of herd immunity. Other countries like the US, Ireland, and Brazil are slowing ramping up vaccination rates. Hopefully these countries continue down the same path to herd immunity. Still, some countries like South Africa, with some of the worst outbreaks and variants are not show high vaccination rates at all. There may be a myriad of reasons for this, but that is beyond the scope of this class and best left to the public health professionals. "
   ]
  },
  {
   "cell_type": "markdown",
   "metadata": {},
   "source": []
  },
  {
   "cell_type": "code",
   "execution_count": null,
   "metadata": {},
   "outputs": [],
   "source": []
  }
 ],
 "metadata": {
  "kernelspec": {
   "display_name": "Python 3",
   "language": "python",
   "name": "python3"
  },
  "language_info": {
   "codemirror_mode": {
    "name": "ipython",
    "version": 3
   },
   "file_extension": ".py",
   "mimetype": "text/x-python",
   "name": "python",
   "nbconvert_exporter": "python",
   "pygments_lexer": "ipython3",
   "version": "3.9.4"
  }
 },
 "nbformat": 4,
 "nbformat_minor": 4
}
